{
 "cells": [
  {
   "cell_type": "code",
   "execution_count": 1,
   "id": "b7d03e67-c8cd-402e-85c7-d696147968f5",
   "metadata": {},
   "outputs": [],
   "source": [
    "import happybase\n",
    "import pandas as pd\n",
    "import findspark\n",
    "findspark.init()"
   ]
  },
  {
   "cell_type": "code",
   "execution_count": 10,
   "id": "37d945d9-873c-454c-ad7e-5deb7c553211",
   "metadata": {},
   "outputs": [],
   "source": [
    "from pyspark.sql import SparkSession\n",
    "from pyspark.sql.functions import col, lit\n",
    "from pyspark.sql.window import Window\n",
    "from pyspark.sql.types import IntegerType\n",
    "from pyspark.sql.functions import col, from_unixtime\n",
    "from functools import reduce"
   ]
  },
  {
   "cell_type": "code",
   "execution_count": 3,
   "id": "007df43c-3473-4aa6-b5f6-c643c88dbd9b",
   "metadata": {},
   "outputs": [],
   "source": [
    "VM_adress = 'localhost'\n",
    "connection = happybase.Connection(VM_adress, timeout=999999)\n",
    "dynamic_table = connection.table('daily_data')\n",
    "static_table = connection.table('spotify_songs')"
   ]
  },
  {
   "cell_type": "code",
   "execution_count": 4,
   "id": "e2140ece-2c87-4bd5-a4de-be6a105685ff",
   "metadata": {},
   "outputs": [
    {
     "name": "stderr",
     "output_type": "stream",
     "text": [
      "23/12/29 23:29:29 WARN util.Utils: Your hostname, node1 resolves to a loopback address: 127.0.0.1; using 10.0.2.15 instead (on interface enp0s3)\n",
      "23/12/29 23:29:29 WARN util.Utils: Set SPARK_LOCAL_IP if you need to bind to another address\n",
      "23/12/29 23:29:30 WARN util.NativeCodeLoader: Unable to load native-hadoop library for your platform... using builtin-java classes where applicable\n",
      "Setting default log level to \"WARN\".\n",
      "To adjust logging level use sc.setLogLevel(newLevel). For SparkR, use setLogLevel(newLevel).\n"
     ]
    }
   ],
   "source": [
    "spark = SparkSession.builder.appName(\"SpotifyAnalysis\").getOrCreate()"
   ]
  },
  {
   "cell_type": "code",
   "execution_count": 5,
   "id": "44ebe130-7640-40c9-8388-4e99631df269",
   "metadata": {},
   "outputs": [],
   "source": [
    "def create_spark_df(tab, spark):\n",
    "    data_list = []\n",
    "    \n",
    "    for key, data in tab.scan(None):\n",
    "        key_decoded = key.decode('utf-8')\n",
    "        row_dict = {'id': key_decoded}\n",
    "    \n",
    "        for column, value in data.items():\n",
    "            column_decoded = column.decode('utf-8')\n",
    "            value_decoded = value.decode('utf-8')\n",
    "            row_dict[column_decoded] = value_decoded\n",
    "    \n",
    "        data_list.append(row_dict)\n",
    "        \n",
    "    spark_df = spark.createDataFrame(data_list)\n",
    "    return spark_df"
   ]
  },
  {
   "cell_type": "code",
   "execution_count": 7,
   "id": "74ce31bd-f293-43e1-9aec-302cf37a864b",
   "metadata": {},
   "outputs": [],
   "source": [
    "daily_data = create_spark_df(dynamic_table, spark)\n",
    "spotify_songs = create_spark_df(static_table, spark)"
   ]
  },
  {
   "cell_type": "code",
   "execution_count": 11,
   "id": "f6cff61a-b4aa-4051-b7d7-858ceb453cc1",
   "metadata": {},
   "outputs": [
    {
     "name": "stdout",
     "output_type": "stream",
     "text": [
      "+-------------+-------------------+----------+----+--------------------+--------------------+\n",
      "|       artist|         date_added|popularity|rank|          track_name|                  id|\n",
      "+-------------+-------------------+----------+----+--------------------+--------------------+\n",
      "|   Elley Duhé|2023-12-29T09:09:03|        78|  39|MONEY ON THE DASH...|086THPnabbu1zfDjR...|\n",
      "|  Blacha 2115|2023-12-29T09:09:03|        65|   2|    Kevin sam w domu|0DhKkQjcrOXLBr9eC...|\n",
      "|        CYRIL|2023-12-29T09:09:03|        68|  32|        Stumblin' In|0h3Xy4V4apMraB5Nu...|\n",
      "|      PRO8L3M|2023-12-29T09:09:03|        66|  47|   Byłem człowiekiem|0nQljvBR8fuT0nmLK...|\n",
      "|     Smolasty|2023-12-29T09:09:03|        69|  15|  Nim Zajdzie Słońce|1NtvjagHJRLQogzWV...|\n",
      "|        Fukaj|2023-12-29T09:09:03|        65|  24|          NIE MA CIĘ|1cnkQScXEGBZKqqy6...|\n",
      "|       Pusher|2023-12-29T09:09:03|        64|  38|           Leje Wina|1feg6LWYEdvsjOLzA...|\n",
      "|         Kizo|2023-12-29T09:09:03|        60|  31|                Taxi|1g88Qpz9ZsJM1hlB3...|\n",
      "|        bambi|2023-12-29T09:09:03|        72|   3|                 BFF|1kuhnhugcuXf4CiNd...|\n",
      "|David Kushner|2023-12-29T09:09:03|        91|  34|            Daylight|1odExI7RdWc4BT515...|\n",
      "|      PRO8L3M|2023-12-29T09:09:03|        66|  37|         Ground Zero|2FHBvsUs4tpHSzIi3...|\n",
      "|      PRO8L3M|2023-12-29T09:09:03|        67|   9|              Miyabi|2GgLLdsRjbiAtN5nf...|\n",
      "|  Blacha 2115|2023-12-29T09:09:03|        70|   8|         Jolie Jolie|2JJ6WnAfVglnYfxZu...|\n",
      "|         GM2L|2023-12-29T09:09:03|        64|  23|      Ciapakwybujany|2PF5O4wQHtD9KpxNA...|\n",
      "|          Oki|2023-12-29T09:09:03|        69|  14|       JEREMY SOCHAN|2WBejVahXeC1gjCXV...|\n",
      "|  White Widow|2023-12-29T09:09:03|        67|  33|         TYLE SŁOŃCA|2oILgeSykGjl0N9m0...|\n",
      "|        Gibbs|2023-12-29T09:09:03|        63|   5|                Stan|33FD8jBm5LZaQ2jJS...|\n",
      "|        Kleks|2023-12-29T09:09:03|        62|  11|  Całkiem Nowa Bajka|33zbrcm0cYIxT5YvE...|\n",
      "|   The Kolors|2023-12-29T09:09:03|        76|  18|          ITALODISCO|3QAU2pj4LUKf7yaTg...|\n",
      "| Kalwi & Remi|2023-12-29T09:09:03|        68|  28|Explosion Ech pol...|3QHZAr43uvIGpWfJA...|\n",
      "+-------------+-------------------+----------+----+--------------------+--------------------+\n",
      "only showing top 20 rows\n",
      "\n"
     ]
    }
   ],
   "source": [
    "daily_data = reduce(lambda df, col_name: df.withColumnRenamed(col_name, col_name.replace(\"data:\", \"\")), daily_data.columns, daily_data)\n",
    "daily_data.show()"
   ]
  },
  {
   "cell_type": "code",
   "execution_count": 13,
   "id": "75d59ee8-3286-43f3-af97-94de76a0dfd3",
   "metadata": {},
   "outputs": [
    {
     "name": "stderr",
     "output_type": "stream",
     "text": [
      "23/12/29 23:34:54 WARN scheduler.TaskSetManager: Stage 3 contains a task of very large size (4021 KiB). The maximum recommended task size is 1000 KiB.\n"
     ]
    },
    {
     "name": "stdout",
     "output_type": "stream",
     "text": [
      "+------------+------------+-----------+------+----------------+---+--------+--------+----+--------------+----------------------+--------------------------------------------------------------------------------------------------+-------------------------+-----------+-------+----------------------+--------------------------------------------+------------------------+--------------------+--------------------------------------------+----------------+-------+----------------------+\n",
      "|acousticness|danceability|duration_ms|energy|instrumentalness|key|liveness|loudness|mode|playlist_genre|playlist_id           |playlist_name                                                                                     |playlist_subgenre        |speechiness|tempo  |track_album_id        |track_album_name                            |track_album_release_date|track_artist        |track_name                                  |track_popularity|valence|id                    |\n",
      "+------------+------------+-----------+------+----------------+---+--------+--------+----+--------------+----------------------+--------------------------------------------------------------------------------------------------+-------------------------+-----------+-------+----------------------+--------------------------------------------+------------------------+--------------------+--------------------------------------------+----------------+-------+----------------------+\n",
      "|0.279       |0.682       |235440     |0.401 |0.0117          |2  |0.0887  |-10.068 |1   |rock          |37i9dQZF1DWYDQ8wBxd7xt|Pinoy Classic Rock                                                                                |classic rock             |0.0236     |97.091 |1srJQ0njEQgd8w4XSqI4JQ|Trip                                        |2001-01-01              |Barbie's Cradle     |Pangarap                                    |41              |0.566  |0017A6SJgTbfQVU2EtsPNo|\n",
      "|0.0651      |0.582       |197286     |0.704 |0               |5  |0.212   |-6.242  |1   |r&b           |0JmBB9HfrzDiZoPVRdv8ns|Groovy // Funky // Neo-Soul                                                                       |neo soul                 |0.0347     |150.863|1ficfUnZMaY1QkNp15Slzm|The Others                                  |2018-01-26              |RIKA                |The Others                                  |15              |0.698  |002xjHwzEx66OWFV2IP9dk|\n",
      "|0.0117      |0.303       |373512     |0.88  |0.00994         |9  |0.347   |-4.739  |1   |rock          |3YouF0u7waJnolytf9JCXf|Hard Rock Workout                                                                                 |hard rock                |0.0442     |135.225|3z04Lb9Dsilqw68SHt6jLB|Love & Loss                                 |2017-11-21              |Steady Rollin       |I Feel Alive                                |28              |0.404  |004s3t0ONYlzxII9PLgU6z|\n",
      "|7.61E-4     |0.659       |228565     |0.794 |0.132           |10 |0.322   |-5.644  |0   |pop           |5TiiHps0hNCyQ6ijVkNZQs|Electropop - Pop                                                                                  |electropop               |0.054      |128.041|1Z4ANBVuhTlS6DprlP0m1q|Liquid Blue                                 |2015-08-07              |The.madpix.project  |Liquid Blue                                 |24              |0.852  |008MceT31RotUANsKuzy3L|\n",
      "|0.114       |0.662       |236308     |0.838 |6.97E-4         |1  |0.0881  |-6.3    |1   |pop           |37i9dQZF1DXdOtZGKonFlM|Best of 2019 Dance Pop: Japan                                                                     |dance pop                |0.0499     |129.884|2BuYm9UcKvI0ydXs5JKwt0|Fever                                       |2018-11-16              |YOSA & TAAR         |Fever                                       |38              |0.496  |008rk8F6ZxspZT4bUlkIQG|\n",
      "|0.187       |0.836       |217653     |0.799 |0               |7  |0.092   |-4.247  |0   |latin         |3nH8aytdqNeRbcRCg3dw9q|latin hip hop                                                                                     |latin hip hop            |0.0873     |94.033 |2phs92sMy029JvPDFXUpCC|No Me Acuerdo                               |2018-06-01              |Thalía              |No Me Acuerdo                               |12              |0.772  |00EPIEnX1JFjff8sC6bccd|\n",
      "|0.453       |0.389       |289227     |0.616 |0               |1  |0.916   |-8.747  |0   |r&b           |78RRvktrPMSqAoCI21mNOe|Neo Soul Music                                                                                    |neo soul                 |0.284      |145.461|3xpDg9THHn3h4wX1Jyz9TT|Ghetto Cyrano                               |1997-01-01              |Christión           |Full Of Smoke                               |41              |0.716  |00FR9VQ0uzF4NNxVKKiMz2|\n",
      "|0.591       |0.764       |286441     |0.594 |0               |6  |0.145   |-10.05  |1   |r&b           |3krpccUV68nBGAQbvHEZDC|Swingbeat (old skool), New Jack Swing, R&B, Hip Hop, Urban                                        |new jack swing           |0.185      |87.261 |2dHr0LpUe6CNV5lNsr8x0W|Forever                                     |1999-08-24              |Diddy               |Satisfy You                                 |52              |0.695  |00FROhC5g4iJdax5US8jRr|\n",
      "|0.226       |0.743       |259267     |0.86  |4.22E-4         |5  |0.0513  |-6.346  |1   |r&b           |3ykXidKLz1eYPvuGoFlD1e|New Jack Swing                                                                                    |new jack swing           |0.0445     |102.459|51fAXJ5bMn7DRSunXQ6PMb|Tender Lover                                |1989-07-07              |Babyface            |Tender Lover                                |36              |0.687  |00GfGwzlSB8DoA0cDP2Eit|\n",
      "|0.0249      |0.573       |188000     |0.746 |0               |10 |0.361   |-4.894  |1   |edm           |4IS7o1utOzhimFEFnj9gmu|Epic Bass Drops | Best House Mixes                                                                |progressive electro house|0.0421     |130.001|5pqG85igfoeWcCDIsSi9x7|Hide Away (feat. Envy Monroe)               |2019-06-21              |Blasterjaxx         |Hide Away (feat. Envy Monroe)               |42              |0.134  |00Gu3RMpDW2vO9PjlMVFDL|\n",
      "|0.0104      |0.754       |208133     |0.725 |0               |8  |0.192   |-6.058  |1   |r&b           |6kVFIQBhLT4003iw2WWEv1|Musica Italiana 2020 - Playlist Pop & Hip-Hop (Canzoni Italiane 2020)                             |hip pop                  |0.0661     |120.002|57L1NgMlfxscOxHhmfLjqg|Libertà                                     |2019-08-30              |Rocco Hunt          |Ti volevo dedicare (feat. J-AX & Boomdabash)|78              |0.271  |00GxbkrW4m1Tac5xySEJ4M|\n",
      "|0.282       |0.706       |209165     |0.457 |0.00849         |4  |0.0614  |-9.359  |1   |pop           |1pZWCY50kMUhshcESknir8|Indie Poptimism                                                                                   |indie poptimism          |0.0383     |78.014 |7mtoEwzZYBqG8JYItxcccG|Hippie Castle EP                            |2015-07-24              |Magic City Hippies  |Limestone                                   |58              |0.723  |00HIh9mVUQQAycsQiciWsh|\n",
      "|2.42E-4     |0.849       |162000     |0.583 |0.857           |1  |0.117   |-9.003  |1   |latin         |3JcJCsvBnRsA6oc7eUYDSB|Latin Village 2019                                                                                |latin hip hop            |0.276      |149.756|46e4ZeWILmScYzUYfqer5M|Brut Riddim                                 |2018-06-15              |Sidney Samson       |Brut Riddim - 120 bpm                       |10              |0.503  |00Hveeqs6yqFu6MvZ50rj9|\n",
      "|0.0164      |0.521       |181693     |0.902 |0.00105         |11 |0.737   |-4.826  |0   |rock          |3E88dLx4fgFYY70gdGzdnB|The Queen - La Discografia Completa                                                               |album rock               |0.197      |104.708|2yuTRGIackbcReLUXOYBqU|Jazz (2011 Remaster)                        |1978-11-10              |Queen               |Let Me Entertain You - Remastered 2011      |41              |0.592  |00ITtxUozN0vifE2uYvtqn|\n",
      "|0.0748      |0.826       |226739     |0.713 |0               |9  |0.331   |-4.017  |0   |latin         |2kKzN3kRYDzBctlaWs7CP2|LATIN POP 2020 🔥 Pop latino actual                                                               |latin pop                |0.129      |102.071|0S3696V7LiaqAJ3DKChAdL|Latina (feat. Maluma)                       |2019-05-31              |Reykon              |Latina (feat. Maluma)                       |74              |0.75   |00Ia46AgCNfnXjzgH8PIKH|\n",
      "|0.688       |0.662       |239027     |0.748 |8.43E-6         |5  |0.0841  |-3.041  |0   |r&b           |0Ar0Ng9DlAWZtSPBvOQgOa|90s/00s Hip Hop & RnB                                                                             |hip pop                  |0.268      |82.331 |2bAkYizbM1rMbOUHpfAV9z|Tha Smokin' Nephew                          |2003-01-01              |Baby Bash           |Suga Suga                                   |8               |0.535  |00LfFm08VWeZwB0Zlm24AT|\n",
      "|0.0418      |0.73        |231080     |0.785 |0.00669         |2  |0.123   |-7.201  |1   |rock          |29dTrOurPDrMcrnio2q6hZ|80s / Classic Rock                                                                                |classic rock             |0.0456     |137.639|6lqQzf2MGsTQ577cGXIfcK|867-5309 / Jenny                            |2008-04-09              |Tommy Tutone        |867-5309 / Jenny                            |43              |0.724  |00MI0oGDVJYM1qWbyUOIhH|\n",
      "|0.0155      |0.665       |265600     |0.771 |9.6E-6          |0  |0.46    |-5.779  |1   |r&b           |4Pbs84EQbuAblxlp6Chz0d|Urban Contemporary                                                                                |urban contemporary       |0.0533     |109.945|2ODvWsOgouMbaA5xf0RkJe|Starboy                                     |2016-11-25              |The Weeknd          |Secrets                                     |71              |0.764  |00NAQYOP4AmWR549nnYJZu|\n",
      "|0.00792     |0.414       |208827     |0.806 |9.33E-5         |7  |0.0488  |-2.892  |1   |pop           |6IT8LGpwLw3Pt2XnVUBN7j|🤩🤪Post Teen Pop🤪🤩                                                                             |post-teen pop            |0.0665     |96.044 |3cfTPG7l0IBjJh7MVBqNdx|Stand Out (From \"How to Build a Better Boy\")|2014-08-12              |Sabrina Carpenter   |Stand Out - From \"How to Build a Better Boy\"|33              |0.77   |00OKDIsSQbx8rd5Al7fKNw|\n",
      "|0.292       |0.88        |147000     |0.57  |0.0388          |2  |0.0674  |-13.145 |1   |r&b           |1S7BckuYIkEazeNKOSM0uA|The 1950s/1960s/1970s/1980s/1990s/2000s/2010s with pop/r&b/soul/boogie/dance/jazz/hip hop/hop/rap.|urban contemporary       |0.0821     |106.035|5IzEY3pod97kHrdt5Qt1RB|Look Out For #1                             |1976-01-01              |The Brothers Johnson|Get The Funk Out Ma Face                    |49              |0.791  |00PLtXXER1XcTRZvs3LioS|\n",
      "+------------+------------+-----------+------+----------------+---+--------+--------+----+--------------+----------------------+--------------------------------------------------------------------------------------------------+-------------------------+-----------+-------+----------------------+--------------------------------------------+------------------------+--------------------+--------------------------------------------+----------------+-------+----------------------+\n",
      "only showing top 20 rows\n",
      "\n"
     ]
    }
   ],
   "source": [
    "spotify_songs = reduce(lambda df, col_name: df.withColumnRenamed(col_name, col_name.replace(\"data:\", \"\")), spotify_songs.columns, spotify_songs)\n",
    "spotify_songs.show()"
   ]
  }
 ],
 "metadata": {
  "kernelspec": {
   "display_name": "Python 3 (ipykernel)",
   "language": "python",
   "name": "python3"
  },
  "language_info": {
   "codemirror_mode": {
    "name": "ipython",
    "version": 3
   },
   "file_extension": ".py",
   "mimetype": "text/x-python",
   "name": "python",
   "nbconvert_exporter": "python",
   "pygments_lexer": "ipython3",
   "version": "3.9.4"
  }
 },
 "nbformat": 4,
 "nbformat_minor": 5
}
